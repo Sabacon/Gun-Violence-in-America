{
 "cells": [
  {
   "cell_type": "markdown",
   "metadata": {},
   "source": [
    "# Shootings in America - Data Analysis"
   ]
  },
  {
   "cell_type": "markdown",
   "metadata": {},
   "source": [
    "In the previous notebook we cleaned the data. Now we are going to analyze it.\n",
    "\n",
    "Welcome back."
   ]
  },
  {
   "cell_type": "code",
   "execution_count": 1,
   "metadata": {},
   "outputs": [],
   "source": [
    "# importing the usual suspects\n",
    "\n",
    "import numpy as np\n",
    "# linear algebra, scientific computing\n",
    "\n",
    "import pandas as pd\n",
    "# data processing, manipulation and analysis\n",
    "\n",
    "import matplotlib.pyplot as plt\n",
    "# data visualization\n",
    "\n",
    "import seaborn as sns\n",
    "# data visualization"
   ]
  },
  {
   "cell_type": "code",
   "execution_count": 2,
   "metadata": {},
   "outputs": [],
   "source": [
    "# reading in the clean data\n",
    "\n",
    "df=pd.read_csv('showered_shootings.csv')"
   ]
  },
  {
   "cell_type": "code",
   "execution_count": 3,
   "metadata": {},
   "outputs": [
    {
     "data": {
      "text/html": [
       "<div>\n",
       "<style scoped>\n",
       "    .dataframe tbody tr th:only-of-type {\n",
       "        vertical-align: middle;\n",
       "    }\n",
       "\n",
       "    .dataframe tbody tr th {\n",
       "        vertical-align: top;\n",
       "    }\n",
       "\n",
       "    .dataframe thead th {\n",
       "        text-align: right;\n",
       "    }\n",
       "</style>\n",
       "<table border=\"1\" class=\"dataframe\">\n",
       "  <thead>\n",
       "    <tr style=\"text-align: right;\">\n",
       "      <th></th>\n",
       "      <th>case</th>\n",
       "      <th>location</th>\n",
       "      <th>date</th>\n",
       "      <th>summary</th>\n",
       "      <th>fatalities</th>\n",
       "      <th>injured</th>\n",
       "      <th>total_victims</th>\n",
       "      <th>location.1</th>\n",
       "      <th>age_of_shooter</th>\n",
       "      <th>prior_signs_mental_health_issues</th>\n",
       "      <th>...</th>\n",
       "      <th>gender</th>\n",
       "      <th>latitude</th>\n",
       "      <th>longitude</th>\n",
       "      <th>type</th>\n",
       "      <th>year</th>\n",
       "      <th>city</th>\n",
       "      <th>state</th>\n",
       "      <th>month</th>\n",
       "      <th>day</th>\n",
       "      <th>age_group</th>\n",
       "    </tr>\n",
       "  </thead>\n",
       "  <tbody>\n",
       "    <tr>\n",
       "      <th>46</th>\n",
       "      <td>Texas First Baptist Church massacre</td>\n",
       "      <td>Sutherland Springs, Texas</td>\n",
       "      <td>2017-11-05</td>\n",
       "      <td>Devin Patrick Kelley, a 26-year-old ex-US Air ...</td>\n",
       "      <td>26</td>\n",
       "      <td>20</td>\n",
       "      <td>46</td>\n",
       "      <td>Religious</td>\n",
       "      <td>26</td>\n",
       "      <td>Yes</td>\n",
       "      <td>...</td>\n",
       "      <td>Male</td>\n",
       "      <td>29.273282</td>\n",
       "      <td>-98.056488</td>\n",
       "      <td>Mass</td>\n",
       "      <td>2017</td>\n",
       "      <td>Sutherland Springs</td>\n",
       "      <td>Texas</td>\n",
       "      <td>November</td>\n",
       "      <td>5</td>\n",
       "      <td>Young Adult</td>\n",
       "    </tr>\n",
       "    <tr>\n",
       "      <th>56</th>\n",
       "      <td>Cascade Mall shooting</td>\n",
       "      <td>Burlington, Washington</td>\n",
       "      <td>2016-09-23</td>\n",
       "      <td>Arcan Cetin, 20, killed a teen girl and three ...</td>\n",
       "      <td>5</td>\n",
       "      <td>0</td>\n",
       "      <td>5</td>\n",
       "      <td>Other</td>\n",
       "      <td>20</td>\n",
       "      <td>Yes</td>\n",
       "      <td>...</td>\n",
       "      <td>Male</td>\n",
       "      <td>48.461367</td>\n",
       "      <td>-122.337918</td>\n",
       "      <td>Mass</td>\n",
       "      <td>2016</td>\n",
       "      <td>Burlington</td>\n",
       "      <td>Washington</td>\n",
       "      <td>September</td>\n",
       "      <td>23</td>\n",
       "      <td>Young Adult</td>\n",
       "    </tr>\n",
       "    <tr>\n",
       "      <th>15</th>\n",
       "      <td>Oxford High School shooting</td>\n",
       "      <td>Oxford, Michigan</td>\n",
       "      <td>2021-11-30</td>\n",
       "      <td>Ethan Crumbley, a 15-year-old student at Oxfor...</td>\n",
       "      <td>4</td>\n",
       "      <td>7</td>\n",
       "      <td>11</td>\n",
       "      <td>School</td>\n",
       "      <td>15</td>\n",
       "      <td>Unknown</td>\n",
       "      <td>...</td>\n",
       "      <td>Male</td>\n",
       "      <td>42.84410784</td>\n",
       "      <td>-83.25992831</td>\n",
       "      <td>Mass</td>\n",
       "      <td>2021</td>\n",
       "      <td>Oxford</td>\n",
       "      <td>Michigan</td>\n",
       "      <td>November</td>\n",
       "      <td>30</td>\n",
       "      <td>Teenager</td>\n",
       "    </tr>\n",
       "    <tr>\n",
       "      <th>82</th>\n",
       "      <td>Seattle cafe shooting</td>\n",
       "      <td>Seattle, Washington</td>\n",
       "      <td>2012-05-20</td>\n",
       "      <td>Ian Stawicki, 40, gunned down four patrons at ...</td>\n",
       "      <td>6</td>\n",
       "      <td>1</td>\n",
       "      <td>7</td>\n",
       "      <td>Other</td>\n",
       "      <td>40</td>\n",
       "      <td>Yes</td>\n",
       "      <td>...</td>\n",
       "      <td>Male</td>\n",
       "      <td>47.6038321</td>\n",
       "      <td>-122.3300624</td>\n",
       "      <td>Mass</td>\n",
       "      <td>2012</td>\n",
       "      <td>Seattle</td>\n",
       "      <td>Washington</td>\n",
       "      <td>May</td>\n",
       "      <td>20</td>\n",
       "      <td>Middle Aged</td>\n",
       "    </tr>\n",
       "    <tr>\n",
       "      <th>94</th>\n",
       "      <td>Northern Illinois University shooting</td>\n",
       "      <td>DeKalb, Illinois</td>\n",
       "      <td>2008-02-14</td>\n",
       "      <td>Steven Kazmierczak, 27, opened fire in a lectu...</td>\n",
       "      <td>5</td>\n",
       "      <td>21</td>\n",
       "      <td>26</td>\n",
       "      <td>School</td>\n",
       "      <td>27</td>\n",
       "      <td>Yes</td>\n",
       "      <td>...</td>\n",
       "      <td>Male</td>\n",
       "      <td>41.9294736</td>\n",
       "      <td>-88.7503647</td>\n",
       "      <td>Mass</td>\n",
       "      <td>2008</td>\n",
       "      <td>DeKalb</td>\n",
       "      <td>Illinois</td>\n",
       "      <td>February</td>\n",
       "      <td>14</td>\n",
       "      <td>Young Adult</td>\n",
       "    </tr>\n",
       "  </tbody>\n",
       "</table>\n",
       "<p>5 rows × 26 columns</p>\n",
       "</div>"
      ],
      "text/plain": [
       "                                     case                   location  \\\n",
       "46    Texas First Baptist Church massacre  Sutherland Springs, Texas   \n",
       "56                  Cascade Mall shooting     Burlington, Washington   \n",
       "15            Oxford High School shooting           Oxford, Michigan   \n",
       "82                  Seattle cafe shooting        Seattle, Washington   \n",
       "94  Northern Illinois University shooting           DeKalb, Illinois   \n",
       "\n",
       "          date                                            summary  fatalities  \\\n",
       "46  2017-11-05  Devin Patrick Kelley, a 26-year-old ex-US Air ...          26   \n",
       "56  2016-09-23  Arcan Cetin, 20, killed a teen girl and three ...           5   \n",
       "15  2021-11-30  Ethan Crumbley, a 15-year-old student at Oxfor...           4   \n",
       "82  2012-05-20  Ian Stawicki, 40, gunned down four patrons at ...           6   \n",
       "94  2008-02-14  Steven Kazmierczak, 27, opened fire in a lectu...           5   \n",
       "\n",
       "    injured  total_victims location.1  age_of_shooter  \\\n",
       "46       20             46  Religious              26   \n",
       "56        0              5      Other              20   \n",
       "15        7             11     School              15   \n",
       "82        1              7      Other              40   \n",
       "94       21             26     School              27   \n",
       "\n",
       "   prior_signs_mental_health_issues  ... gender     latitude     longitude  \\\n",
       "46                              Yes  ...   Male    29.273282    -98.056488   \n",
       "56                              Yes  ...   Male    48.461367   -122.337918   \n",
       "15                          Unknown  ...   Male  42.84410784  -83.25992831   \n",
       "82                              Yes  ...   Male   47.6038321  -122.3300624   \n",
       "94                              Yes  ...   Male   41.9294736   -88.7503647   \n",
       "\n",
       "    type  year                city        state      month day    age_group  \n",
       "46  Mass  2017  Sutherland Springs        Texas   November   5  Young Adult  \n",
       "56  Mass  2016          Burlington   Washington  September  23  Young Adult  \n",
       "15  Mass  2021              Oxford     Michigan   November  30     Teenager  \n",
       "82  Mass  2012             Seattle   Washington        May  20  Middle Aged  \n",
       "94  Mass  2008              DeKalb     Illinois   February  14  Young Adult  \n",
       "\n",
       "[5 rows x 26 columns]"
      ]
     },
     "execution_count": 3,
     "metadata": {},
     "output_type": "execute_result"
    }
   ],
   "source": [
    "# sampling 5 random rows\n",
    "\n",
    "df.sample(5)"
   ]
  },
  {
   "cell_type": "code",
   "execution_count": 4,
   "metadata": {},
   "outputs": [
    {
     "name": "stdout",
     "output_type": "stream",
     "text": [
      "<class 'pandas.core.frame.DataFrame'>\n",
      "RangeIndex: 140 entries, 0 to 139\n",
      "Data columns (total 26 columns):\n",
      " #   Column                            Non-Null Count  Dtype \n",
      "---  ------                            --------------  ----- \n",
      " 0   case                              140 non-null    object\n",
      " 1   location                          140 non-null    object\n",
      " 2   date                              140 non-null    object\n",
      " 3   summary                           140 non-null    object\n",
      " 4   fatalities                        140 non-null    int64 \n",
      " 5   injured                           140 non-null    int64 \n",
      " 6   total_victims                     140 non-null    int64 \n",
      " 7   location.1                        140 non-null    object\n",
      " 8   age_of_shooter                    140 non-null    int64 \n",
      " 9   prior_signs_mental_health_issues  140 non-null    object\n",
      " 10  mental_health_details             140 non-null    object\n",
      " 11  weapons_obtained_legally          140 non-null    object\n",
      " 12  where_obtained                    140 non-null    object\n",
      " 13  weapon_type                       140 non-null    object\n",
      " 14  weapon_details                    139 non-null    object\n",
      " 15  race                              140 non-null    object\n",
      " 16  gender                            140 non-null    object\n",
      " 17  latitude                          140 non-null    object\n",
      " 18  longitude                         140 non-null    object\n",
      " 19  type                              140 non-null    object\n",
      " 20  year                              140 non-null    int64 \n",
      " 21  city                              140 non-null    object\n",
      " 22  state                             140 non-null    object\n",
      " 23  month                             140 non-null    object\n",
      " 24  day                               140 non-null    int64 \n",
      " 25  age_group                         140 non-null    object\n",
      "dtypes: int64(6), object(20)\n",
      "memory usage: 28.6+ KB\n"
     ]
    }
   ],
   "source": [
    "df.info()"
   ]
  },
  {
   "cell_type": "markdown",
   "metadata": {},
   "source": [
    "Everything seems to be in order so let's jump in."
   ]
  },
  {
   "cell_type": "code",
   "execution_count": null,
   "metadata": {},
   "outputs": [],
   "source": []
  },
  {
   "cell_type": "markdown",
   "metadata": {},
   "source": [
    "### Which states had the most shootings?"
   ]
  },
  {
   "cell_type": "code",
   "execution_count": 5,
   "metadata": {},
   "outputs": [
    {
     "data": {
      "text/plain": [
       " California      25\n",
       " Florida         12\n",
       " Texas           12\n",
       " Colorado         8\n",
       " Washington       7\n",
       " Illinois         5\n",
       " New York         5\n",
       " Pennsylvania     5\n",
       " Wisconsin        5\n",
       " Maryland         4\n",
       "Name: state, dtype: int64"
      ]
     },
     "execution_count": 5,
     "metadata": {},
     "output_type": "execute_result"
    }
   ],
   "source": [
    "# top 10 states with the most shootings\n",
    "\n",
    "df['state'].value_counts()[:10]"
   ]
  },
  {
   "cell_type": "markdown",
   "metadata": {},
   "source": [
    "The state of California leads the way with the most number of shootings (25 in total). \n",
    "\n",
    "This number is more than double the next two states combined (Florida & Texas have 12 each; 24 in total)"
   ]
  },
  {
   "cell_type": "code",
   "execution_count": 6,
   "metadata": {},
   "outputs": [
    {
     "data": {
      "image/png": "[encoded data removed]",
      "text/plain": [
       "<Figure size 864x432 with 1 Axes>"
      ]
     },
     "metadata": {
      "needs_background": "light"
     },
     "output_type": "display_data"
    }
   ],
   "source": [
    "# visualizing the count per state\n",
    "\n",
    "plt.figure(figsize=(12,6))\n",
    "sns.countplot(data=df, x='state')\n",
    "plt.title('Number of Shootings Per State', size=20)\n",
    "plt.xlabel('State', size=20)\n",
    "plt.ylabel('Count', size=20)\n",
    "plt.xticks(rotation=80);"
   ]
  },
  {
   "cell_type": "markdown",
   "metadata": {},
   "source": [
    "California sticks out like a sore thumb."
   ]
  },
  {
   "cell_type": "code",
   "execution_count": null,
   "metadata": {},
   "outputs": [],
   "source": []
  },
  {
   "cell_type": "markdown",
   "metadata": {},
   "source": [
    "### Which cities recorded the most incidents?"
   ]
  },
  {
   "cell_type": "code",
   "execution_count": 7,
   "metadata": {},
   "outputs": [
    {
     "data": {
      "text/plain": [
       "Colorado Springs, Colorado    3\n",
       "Fort Lauderdale, Florida      2\n",
       "Orange, California            2\n",
       "Atlanta, Georgia              2\n",
       "Seattle, Washington           2\n",
       "Aurora, Colorado              2\n",
       "Orlando, Florida              2\n",
       "Dallas, Texas                 2\n",
       "San Francisco, California     2\n",
       "Fort Hood, Texas              2\n",
       "Name: location, dtype: int64"
      ]
     },
     "execution_count": 7,
     "metadata": {},
     "output_type": "execute_result"
    }
   ],
   "source": [
    "# 10 cities with the most shootings\n",
    "\n",
    "df['location'].value_counts().nlargest(10)"
   ]
  },
  {
   "cell_type": "code",
   "execution_count": null,
   "metadata": {},
   "outputs": [],
   "source": []
  },
  {
   "cell_type": "markdown",
   "metadata": {},
   "source": [
    "### What are the yearly numbers?"
   ]
  },
  {
   "cell_type": "code",
   "execution_count": 8,
   "metadata": {},
   "outputs": [
    {
     "data": {
      "text/plain": [
       "2018    12\n",
       "2017    11\n",
       "2022    11\n",
       "2019    10\n",
       "2015     7\n",
       "2012     7\n",
       "2021     6\n",
       "2016     6\n",
       "1999     5\n",
       "2013     5\n",
       "Name: year, dtype: int64"
      ]
     },
     "execution_count": 8,
     "metadata": {},
     "output_type": "execute_result"
    }
   ],
   "source": [
    "df['year'].value_counts()[:10]"
   ]
  },
  {
   "cell_type": "markdown",
   "metadata": {},
   "source": [
    "Of the top 10 years with the most shootings since 1982, 70% are from the decade ending 2023."
   ]
  },
  {
   "cell_type": "code",
   "execution_count": null,
   "metadata": {},
   "outputs": [],
   "source": []
  },
  {
   "cell_type": "code",
   "execution_count": 9,
   "metadata": {},
   "outputs": [
    {
     "data": {
      "text/plain": [
       "<seaborn.axisgrid.FacetGrid at 0x237f4b80cf8>"
      ]
     },
     "execution_count": 9,
     "metadata": {},
     "output_type": "execute_result"
    },
    {
     "data": {
      "image/png": "[encoded data removed]",
      "text/plain": [
       "<Figure size 360x360 with 1 Axes>"
      ]
     },
     "metadata": {
      "needs_background": "light"
     },
     "output_type": "display_data"
    }
   ],
   "source": [
    "# visualizing the yearly findings\n",
    "\n",
    "sns.displot(data=df,x='year',bins=40,kde=True,color='blue')"
   ]
  },
  {
   "cell_type": "code",
   "execution_count": null,
   "metadata": {},
   "outputs": [],
   "source": []
  },
  {
   "cell_type": "code",
   "execution_count": 10,
   "metadata": {},
   "outputs": [
    {
     "data": {
      "text/plain": [
       "<AxesSubplot:xlabel='year'>"
      ]
     },
     "execution_count": 10,
     "metadata": {},
     "output_type": "execute_result"
    },
    {
     "data": {
      "image/png": "[encoded data removed]",
      "text/plain": [
       "<Figure size 432x288 with 1 Axes>"
      ]
     },
     "metadata": {
      "needs_background": "light"
     },
     "output_type": "display_data"
    }
   ],
   "source": [
    "# which the top 10 years with the highest number of victims of gun violence?\n",
    "\n",
    "df.groupby('year').sum()['total_victims'].sort_values(ascending=False)[:10].plot(kind='bar')"
   ]
  },
  {
   "cell_type": "markdown",
   "metadata": {},
   "source": [
    "When it comes to total victims, every single year since 1982 pales in comparison to 2017. "
   ]
  },
  {
   "cell_type": "code",
   "execution_count": null,
   "metadata": {},
   "outputs": [],
   "source": []
  },
  {
   "cell_type": "code",
   "execution_count": 11,
   "metadata": {},
   "outputs": [
    {
     "data": {
      "text/plain": [
       "year\n",
       "2017    704\n",
       "2019    185\n",
       "2022    174\n",
       "2016    154\n",
       "2012    151\n",
       "2018    150\n",
       "2015     89\n",
       "1999     89\n",
       "2007     85\n",
       "2009     78\n",
       "Name: total_victims, dtype: int64"
      ]
     },
     "execution_count": 11,
     "metadata": {},
     "output_type": "execute_result"
    }
   ],
   "source": [
    "# what are the top 10 years with the highest number of shooting victims?\n",
    "\n",
    "df.groupby('year').sum()['total_victims'].sort_values(ascending=False)[:10]"
   ]
  },
  {
   "cell_type": "markdown",
   "metadata": {},
   "source": [
    "Over 700 people were victims of gun violence in 2017. \n",
    "\n",
    "This number is greater than the next four highest years combined.\n",
    "\n",
    "What was going on in America in 2017?"
   ]
  },
  {
   "cell_type": "code",
   "execution_count": null,
   "metadata": {},
   "outputs": [],
   "source": []
  },
  {
   "cell_type": "code",
   "execution_count": 12,
   "metadata": {},
   "outputs": [
    {
     "data": {
      "text/plain": [
       "year\n",
       "2017    117\n",
       "2018     80\n",
       "2019     73\n",
       "2016     71\n",
       "2012     71\n",
       "2022     70\n",
       "2007     53\n",
       "2015     46\n",
       "2021     43\n",
       "1999     42\n",
       "Name: fatalities, dtype: int64"
      ]
     },
     "execution_count": 12,
     "metadata": {},
     "output_type": "execute_result"
    }
   ],
   "source": [
    "# how many people died per year as a result of gun violence?\n",
    "\n",
    "df.groupby('year').sum()['fatalities'].sort_values(ascending=False)[:10]"
   ]
  },
  {
   "cell_type": "markdown",
   "metadata": {},
   "source": [
    "In 2017, over 100 individuals lost their lives as a result of gun violence."
   ]
  },
  {
   "cell_type": "code",
   "execution_count": null,
   "metadata": {},
   "outputs": [],
   "source": []
  },
  {
   "cell_type": "code",
   "execution_count": 13,
   "metadata": {},
   "outputs": [
    {
     "data": {
      "text/plain": [
       "16.62"
      ]
     },
     "execution_count": 13,
     "metadata": {},
     "output_type": "execute_result"
    }
   ],
   "source": [
    "np.round((117/704)*100,2)"
   ]
  },
  {
   "cell_type": "markdown",
   "metadata": {},
   "source": [
    "Of the 704 individuals who were attacked in 2017, 17% were mortally wounded."
   ]
  },
  {
   "cell_type": "code",
   "execution_count": null,
   "metadata": {},
   "outputs": [],
   "source": []
  },
  {
   "cell_type": "markdown",
   "metadata": {},
   "source": [
    "### What are the monthly figures?"
   ]
  },
  {
   "cell_type": "code",
   "execution_count": 14,
   "metadata": {},
   "outputs": [
    {
     "data": {
      "text/plain": [
       "<AxesSubplot:xlabel='month'>"
      ]
     },
     "execution_count": 14,
     "metadata": {},
     "output_type": "execute_result"
    },
    {
     "data": {
      "image/png": "[encoded data removed]",
      "text/plain": [
       "<Figure size 432x288 with 1 Axes>"
      ]
     },
     "metadata": {
      "needs_background": "light"
     },
     "output_type": "display_data"
    }
   ],
   "source": [
    "df.groupby('month').count()['year'].plot(kind='bar')"
   ]
  },
  {
   "cell_type": "markdown",
   "metadata": {},
   "source": [
    "April (7) had the lowest number of shootings while February and March recorded the highest (15 each)."
   ]
  },
  {
   "cell_type": "code",
   "execution_count": null,
   "metadata": {},
   "outputs": [],
   "source": []
  },
  {
   "cell_type": "markdown",
   "metadata": {},
   "source": [
    "###  Where are the shootings happening?"
   ]
  },
  {
   "cell_type": "code",
   "execution_count": 15,
   "metadata": {},
   "outputs": [
    {
     "data": {
      "image/png": "[encoded data removed]",
      "text/plain": [
       "<Figure size 720x432 with 1 Axes>"
      ]
     },
     "metadata": {
      "needs_background": "light"
     },
     "output_type": "display_data"
    }
   ],
   "source": [
    "# visualizing the count per location\n",
    "\n",
    "plt.figure(figsize=(10,6))\n",
    "sns.countplot(data=df,x='location.1')\n",
    "plt.title('Number of Shootings Per Location', size=20)\n",
    "plt.xlabel('Location', size=20)\n",
    "plt.ylabel('No. of Shootings', size=20);"
   ]
  },
  {
   "cell_type": "markdown",
   "metadata": {},
   "source": [
    "What is going on at places of work?\n",
    "\n",
    "What would drive a student to attack his fellow students?\n",
    "\n",
    "'Other' column needs to be further broken down into specific locations.\n",
    "\n",
    "Religious institutions, military bases and airports have recorded less than 10 shootings each in the past 3 decades."
   ]
  },
  {
   "cell_type": "code",
   "execution_count": null,
   "metadata": {},
   "outputs": [],
   "source": []
  },
  {
   "cell_type": "markdown",
   "metadata": {},
   "source": [
    "### How old are the perpetrators?"
   ]
  },
  {
   "cell_type": "code",
   "execution_count": 16,
   "metadata": {},
   "outputs": [
    {
     "data": {
      "text/plain": [
       "Middle Aged    60\n",
       "Young Adult    58\n",
       "Teenager       15\n",
       "Senior          6\n",
       "Child           1\n",
       "Name: age_group, dtype: int64"
      ]
     },
     "execution_count": 16,
     "metadata": {},
     "output_type": "execute_result"
    }
   ],
   "source": [
    "df['age_group'].value_counts()"
   ]
  },
  {
   "cell_type": "markdown",
   "metadata": {},
   "source": [
    "Only 1 shooting incident involved a shooter below the age of 13 and just 6 involved shooters older than 60.\n",
    "\n",
    "Young adults and the middle aged committed the vast majority of the shootings."
   ]
  },
  {
   "cell_type": "code",
   "execution_count": null,
   "metadata": {},
   "outputs": [],
   "source": []
  },
  {
   "cell_type": "code",
   "execution_count": 17,
   "metadata": {},
   "outputs": [
    {
     "data": {
      "text/plain": [
       "42.857142857142854"
      ]
     },
     "execution_count": 17,
     "metadata": {},
     "output_type": "execute_result"
    }
   ],
   "source": [
    "len(df[df['age_group']=='Middle Aged']) / len(df) * 100"
   ]
  },
  {
   "cell_type": "markdown",
   "metadata": {},
   "source": [
    "43% of all shootings were carried out by suspects between 35 and 59 years old."
   ]
  },
  {
   "cell_type": "code",
   "execution_count": null,
   "metadata": {},
   "outputs": [],
   "source": []
  },
  {
   "cell_type": "code",
   "execution_count": 18,
   "metadata": {},
   "outputs": [
    {
     "data": {
      "text/plain": [
       "41.42857142857143"
      ]
     },
     "execution_count": 18,
     "metadata": {},
     "output_type": "execute_result"
    }
   ],
   "source": [
    "len(df[df['age_group']=='Young Adult']) / len(df) * 100"
   ]
  },
  {
   "cell_type": "markdown",
   "metadata": {},
   "source": [
    "41% of the shootings involved shooters between 21 and 34 years old."
   ]
  },
  {
   "cell_type": "code",
   "execution_count": null,
   "metadata": {},
   "outputs": [],
   "source": []
  },
  {
   "cell_type": "code",
   "execution_count": 19,
   "metadata": {},
   "outputs": [
    {
     "data": {
      "text/plain": [
       "location.1\n",
       "Airport      26.000000\n",
       "Military     28.666667\n",
       "Other        35.792453\n",
       "Religious    41.625000\n",
       "School       22.863636\n",
       "Workplace    36.760000\n",
       "Name: age_of_shooter, dtype: float64"
      ]
     },
     "execution_count": 19,
     "metadata": {},
     "output_type": "execute_result"
    }
   ],
   "source": [
    "# what is the average age of the shooters by location?\n",
    "\n",
    "df.groupby('location.1').mean()['age_of_shooter']"
   ]
  },
  {
   "cell_type": "markdown",
   "metadata": {},
   "source": [
    "The average age of the school shooters is the lowest (23).\n",
    "\n",
    "Places of worship had the oldest shooters with an average age of 42."
   ]
  },
  {
   "cell_type": "code",
   "execution_count": null,
   "metadata": {},
   "outputs": [],
   "source": []
  },
  {
   "cell_type": "markdown",
   "metadata": {},
   "source": [
    "### Do the perpetrators have any mental health issues?"
   ]
  },
  {
   "cell_type": "code",
   "execution_count": 20,
   "metadata": {},
   "outputs": [
    {
     "data": {
      "text/plain": [
       "<AxesSubplot:>"
      ]
     },
     "execution_count": 20,
     "metadata": {},
     "output_type": "execute_result"
    },
    {
     "data": {
      "image/png": "[encoded data removed]",
      "text/plain": [
       "<Figure size 432x288 with 1 Axes>"
      ]
     },
     "metadata": {
      "needs_background": "light"
     },
     "output_type": "display_data"
    }
   ],
   "source": [
    "df['prior_signs_mental_health_issues'].value_counts().plot(kind='barh')"
   ]
  },
  {
   "cell_type": "code",
   "execution_count": 21,
   "metadata": {},
   "outputs": [
    {
     "data": {
      "text/plain": [
       "47.14285714285714"
      ]
     },
     "execution_count": 21,
     "metadata": {},
     "output_type": "execute_result"
    }
   ],
   "source": [
    "len(df[df['prior_signs_mental_health_issues']=='Yes']) / len(df) * 100"
   ]
  },
  {
   "cell_type": "markdown",
   "metadata": {},
   "source": [
    "Nearly half of all shootings were carried out by shooters with confirmed mental health issues."
   ]
  },
  {
   "cell_type": "code",
   "execution_count": null,
   "metadata": {},
   "outputs": [],
   "source": []
  },
  {
   "cell_type": "markdown",
   "metadata": {},
   "source": [
    "### Are the weapons used to carry out the shootings registered?"
   ]
  },
  {
   "cell_type": "code",
   "execution_count": 22,
   "metadata": {},
   "outputs": [
    {
     "data": {
      "text/plain": [
       "Yes        93\n",
       "Unknown    31\n",
       "No         16\n",
       "Name: weapons_obtained_legally, dtype: int64"
      ]
     },
     "execution_count": 22,
     "metadata": {},
     "output_type": "execute_result"
    }
   ],
   "source": [
    "df['weapons_obtained_legally'].value_counts()"
   ]
  },
  {
   "cell_type": "code",
   "execution_count": 23,
   "metadata": {},
   "outputs": [
    {
     "data": {
      "text/plain": [
       "33.57"
      ]
     },
     "execution_count": 23,
     "metadata": {},
     "output_type": "execute_result"
    }
   ],
   "source": [
    "np.round((len(df[df['weapons_obtained_legally']=='No']) + len(df[df['weapons_obtained_legally']=='Unknown'])) / len(df) * 100,2)"
   ]
  },
  {
   "cell_type": "markdown",
   "metadata": {},
   "source": [
    "A third of the shootings were carried out using firearms that were either obtained illegally or whose legality is unknown."
   ]
  },
  {
   "cell_type": "code",
   "execution_count": null,
   "metadata": {},
   "outputs": [],
   "source": []
  },
  {
   "cell_type": "markdown",
   "metadata": {},
   "source": [
    "### Is race significant?"
   ]
  },
  {
   "cell_type": "code",
   "execution_count": 24,
   "metadata": {},
   "outputs": [
    {
     "data": {
      "text/plain": [
       "White              73\n",
       "Black              24\n",
       "Unclear            19\n",
       "Latino             11\n",
       "Asian              10\n",
       "Native American     3\n",
       "Name: race, dtype: int64"
      ]
     },
     "execution_count": 24,
     "metadata": {},
     "output_type": "execute_result"
    }
   ],
   "source": [
    "df['race'].value_counts()"
   ]
  },
  {
   "cell_type": "code",
   "execution_count": 25,
   "metadata": {},
   "outputs": [
    {
     "data": {
      "image/png": "[encoded data removed]",
      "text/plain": [
       "<Figure size 864x432 with 1 Axes>"
      ]
     },
     "metadata": {
      "needs_background": "light"
     },
     "output_type": "display_data"
    }
   ],
   "source": [
    "plt.figure(figsize=(12,6))\n",
    "sns.countplot(data=df,x='race')\n",
    "plt.title('Number of Shootings by Race', size=20)\n",
    "plt.xlabel('Race', size=20)\n",
    "plt.ylabel('No. of Shootings', size=20);"
   ]
  },
  {
   "cell_type": "code",
   "execution_count": 26,
   "metadata": {},
   "outputs": [
    {
     "data": {
      "text/plain": [
       "52.14"
      ]
     },
     "execution_count": 26,
     "metadata": {},
     "output_type": "execute_result"
    }
   ],
   "source": [
    "np.round((len(df[df['race']=='White'])/len(df))*100,2)"
   ]
  },
  {
   "cell_type": "markdown",
   "metadata": {},
   "source": [
    "Over half of the shootings were carried out by white perpetrators."
   ]
  },
  {
   "cell_type": "code",
   "execution_count": null,
   "metadata": {},
   "outputs": [],
   "source": []
  },
  {
   "cell_type": "code",
   "execution_count": 27,
   "metadata": {},
   "outputs": [
    {
     "data": {
      "text/plain": [
       "32.14"
      ]
     },
     "execution_count": 27,
     "metadata": {},
     "output_type": "execute_result"
    }
   ],
   "source": [
    "np.round((len(df[df['race']=='Black'])+len(df[df['race']=='Asian'])+len(df[df['race']=='Latino']))/len(df)*100,2)"
   ]
  },
  {
   "cell_type": "markdown",
   "metadata": {},
   "source": [
    "Native americans were responsible for 2% of the total shootings while the other ethnic minorities combined carried out 32%."
   ]
  },
  {
   "cell_type": "code",
   "execution_count": null,
   "metadata": {},
   "outputs": [],
   "source": []
  },
  {
   "cell_type": "code",
   "execution_count": 28,
   "metadata": {},
   "outputs": [
    {
     "data": {
      "text/plain": [
       "13.57"
      ]
     },
     "execution_count": 28,
     "metadata": {},
     "output_type": "execute_result"
    }
   ],
   "source": [
    "np.round((len(df[df['race']=='Unclear'])/len(df))*100,2)"
   ]
  },
  {
   "cell_type": "markdown",
   "metadata": {},
   "source": [
    "14% of the total shootings were carried out by assailants whose race is unclear."
   ]
  },
  {
   "cell_type": "code",
   "execution_count": null,
   "metadata": {},
   "outputs": [],
   "source": []
  },
  {
   "cell_type": "markdown",
   "metadata": {},
   "source": [
    "### Which gender is responsible for most of the offences?"
   ]
  },
  {
   "cell_type": "code",
   "execution_count": 29,
   "metadata": {},
   "outputs": [
    {
     "data": {
      "text/plain": [
       "Male                  134\n",
       "Female                  3\n",
       "Male & Female           2\n",
       "Transgender Female      1\n",
       "Name: gender, dtype: int64"
      ]
     },
     "execution_count": 29,
     "metadata": {},
     "output_type": "execute_result"
    }
   ],
   "source": [
    "# number of shootings per gender\n",
    "\n",
    "df['gender'].value_counts()"
   ]
  },
  {
   "cell_type": "code",
   "execution_count": null,
   "metadata": {},
   "outputs": [],
   "source": []
  },
  {
   "cell_type": "code",
   "execution_count": 30,
   "metadata": {},
   "outputs": [
    {
     "data": {
      "image/png": "[encoded data removed]",
      "text/plain": [
       "<Figure size 864x432 with 1 Axes>"
      ]
     },
     "metadata": {
      "needs_background": "light"
     },
     "output_type": "display_data"
    }
   ],
   "source": [
    "plt.figure(figsize=(12,6))\n",
    "sns.countplot(data=df, x='gender')\n",
    "plt.title('Number of Shootings by Gender', size=20)\n",
    "plt.xlabel('Gender', size=20)\n",
    "plt.ylabel('No. of Shootings', size=20);"
   ]
  },
  {
   "cell_type": "code",
   "execution_count": null,
   "metadata": {},
   "outputs": [],
   "source": []
  },
  {
   "cell_type": "code",
   "execution_count": 31,
   "metadata": {},
   "outputs": [
    {
     "data": {
      "text/plain": [
       "95.71"
      ]
     },
     "execution_count": 31,
     "metadata": {},
     "output_type": "execute_result"
    }
   ],
   "source": [
    "np.round(len(df[df['gender']=='Male'])/len(df)*100,2)"
   ]
  },
  {
   "cell_type": "markdown",
   "metadata": {},
   "source": [
    "96% of the shootings were carried out by males.\n",
    "\n",
    "2 shootings involved both a male and female shooter."
   ]
  },
  {
   "cell_type": "code",
   "execution_count": null,
   "metadata": {},
   "outputs": [],
   "source": []
  },
  {
   "cell_type": "markdown",
   "metadata": {},
   "source": [
    "### Are all shootings the same?"
   ]
  },
  {
   "cell_type": "code",
   "execution_count": 32,
   "metadata": {},
   "outputs": [
    {
     "data": {
      "text/plain": [
       "Mass     119\n",
       "Spree     21\n",
       "Name: type, dtype: int64"
      ]
     },
     "execution_count": 32,
     "metadata": {},
     "output_type": "execute_result"
    }
   ],
   "source": [
    "df['type'].value_counts()"
   ]
  },
  {
   "cell_type": "code",
   "execution_count": 33,
   "metadata": {},
   "outputs": [
    {
     "data": {
      "image/png": "[encoded data removed]",
      "text/plain": [
       "<Figure size 576x288 with 1 Axes>"
      ]
     },
     "metadata": {
      "needs_background": "light"
     },
     "output_type": "display_data"
    }
   ],
   "source": [
    "plt.figure(figsize=(8,4))\n",
    "sns.countplot(data=df,x='type')\n",
    "plt.title('Types of Shootings', size=20)\n",
    "plt.xlabel('Type', size=20)\n",
    "plt.ylabel('Number', size=20);"
   ]
  },
  {
   "cell_type": "code",
   "execution_count": 34,
   "metadata": {},
   "outputs": [
    {
     "data": {
      "text/plain": [
       "85.0"
      ]
     },
     "execution_count": 34,
     "metadata": {},
     "output_type": "execute_result"
    }
   ],
   "source": [
    "np.round(len(df[df['type']=='Mass'])/len(df)*100,2)"
   ]
  },
  {
   "cell_type": "markdown",
   "metadata": {},
   "source": [
    "85% of all cases were mass shootings. \n",
    "\n",
    "According to the FBI, a mass murderer kills four of more people during a continuous time period (within a few minutes or over a period of days) and at a single location. \n",
    "\n",
    "A spree killer on the other hand, kills two or more at more than one location. The murders are considered a single event since there is no \"cooling-off\" period in between. "
   ]
  },
  {
   "cell_type": "code",
   "execution_count": null,
   "metadata": {},
   "outputs": [],
   "source": []
  },
  {
   "cell_type": "code",
   "execution_count": null,
   "metadata": {},
   "outputs": [],
   "source": []
  },
  {
   "cell_type": "markdown",
   "metadata": {},
   "source": [
    "#### That's it for this project. \n",
    "\n",
    "#### Our hearts go out to the families and friends of the victims.\n",
    "\n",
    "#### If you made it this far, thank you very much."
   ]
  },
  {
   "cell_type": "code",
   "execution_count": null,
   "metadata": {},
   "outputs": [],
   "source": []
  }
 ],
 "metadata": {
  "kernelspec": {
   "display_name": "Python 3",
   "language": "python",
   "name": "python3"
  },
  "language_info": {
   "codemirror_mode": {
    "name": "ipython",
    "version": 3
   },
   "file_extension": ".py",
   "mimetype": "text/x-python",
   "name": "python",
   "nbconvert_exporter": "python",
   "pygments_lexer": "ipython3",
   "version": "3.7.2"
  }
 },
 "nbformat": 4,
 "nbformat_minor": 4
}
