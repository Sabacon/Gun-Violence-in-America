{
 "cells": [
  {
   "cell_type": "markdown",
   "metadata": {},
   "source": [
    "# Shootings in America - Data Cleaning"
   ]
  },
  {
   "cell_type": "markdown",
   "metadata": {},
   "source": [
    "In this project I take a closer look at shootings in the United States of America. In the recent past, gun violence in America has been making news headlines. This is concerning even for someone living thousands of miles away. I found a dataset on Kaggle containing data on shootings from 1982 to the current year 2023 and decided to jump right in.\n",
    "\n",
    "You are welcome to tag along."
   ]
  },
  {
   "cell_type": "code",
   "execution_count": 1,
   "metadata": {},
   "outputs": [],
   "source": [
    "# importing the usual suspects\n",
    "\n",
    "import numpy as np\n",
    "# linear algebra, scientific computing\n",
    "\n",
    "import pandas as pd\n",
    "# data processing, manipulation and analysis\n",
    "\n",
    "import matplotlib.pyplot as plt\n",
    "# data visualization\n",
    "\n",
    "import seaborn as sns\n",
    "# data visualization"
   ]
  },
  {
   "cell_type": "code",
   "execution_count": 2,
   "metadata": {},
   "outputs": [],
   "source": [
    "# reading in the data\n",
    "\n",
    "df=pd.read_csv('shooting-1982-2023.csv')"
   ]
  },
  {
   "cell_type": "code",
   "execution_count": 3,
   "metadata": {},
   "outputs": [
    {
     "data": {
      "text/html": [
       "<div>\n",
       "<style scoped>\n",
       "    .dataframe tbody tr th:only-of-type {\n",
       "        vertical-align: middle;\n",
       "    }\n",
       "\n",
       "    .dataframe tbody tr th {\n",
       "        vertical-align: top;\n",
       "    }\n",
       "\n",
       "    .dataframe thead th {\n",
       "        text-align: right;\n",
       "    }\n",
       "</style>\n",
       "<table border=\"1\" class=\"dataframe\">\n",
       "  <thead>\n",
       "    <tr style=\"text-align: right;\">\n",
       "      <th></th>\n",
       "      <th>case</th>\n",
       "      <th>location</th>\n",
       "      <th>date</th>\n",
       "      <th>summary</th>\n",
       "      <th>fatalities</th>\n",
       "      <th>injured</th>\n",
       "      <th>total_victims</th>\n",
       "      <th>location.1</th>\n",
       "      <th>age_of_shooter</th>\n",
       "      <th>prior_signs_mental_health_issues</th>\n",
       "      <th>...</th>\n",
       "      <th>weapons_obtained_legally</th>\n",
       "      <th>where_obtained</th>\n",
       "      <th>weapon_type</th>\n",
       "      <th>weapon_details</th>\n",
       "      <th>race</th>\n",
       "      <th>gender</th>\n",
       "      <th>latitude</th>\n",
       "      <th>longitude</th>\n",
       "      <th>type</th>\n",
       "      <th>year</th>\n",
       "    </tr>\n",
       "  </thead>\n",
       "  <tbody>\n",
       "    <tr>\n",
       "      <th>0</th>\n",
       "      <td>Nashville religious school shooting</td>\n",
       "      <td>Nashville, TN</td>\n",
       "      <td>3-27-23</td>\n",
       "      <td>Audrey Hale, 28, who was a former student at t...</td>\n",
       "      <td>6</td>\n",
       "      <td>1</td>\n",
       "      <td>6</td>\n",
       "      <td>School</td>\n",
       "      <td>28</td>\n",
       "      <td>-</td>\n",
       "      <td>...</td>\n",
       "      <td>-</td>\n",
       "      <td>-</td>\n",
       "      <td>semiautomatic rifle, semiautomatic handgun</td>\n",
       "      <td>-</td>\n",
       "      <td>-</td>\n",
       "      <td>F (identified as transgender, per police)</td>\n",
       "      <td>-</td>\n",
       "      <td>-</td>\n",
       "      <td>Mass</td>\n",
       "      <td>2023</td>\n",
       "    </tr>\n",
       "    <tr>\n",
       "      <th>1</th>\n",
       "      <td>Michigan State University shooting</td>\n",
       "      <td>East Lansing, Michigan</td>\n",
       "      <td>2-13-23</td>\n",
       "      <td>Anthony D. McRae, 43, opened fire at Berkey Ha...</td>\n",
       "      <td>3</td>\n",
       "      <td>5</td>\n",
       "      <td>8</td>\n",
       "      <td>School</td>\n",
       "      <td>43</td>\n",
       "      <td>-</td>\n",
       "      <td>...</td>\n",
       "      <td>yes</td>\n",
       "      <td>-</td>\n",
       "      <td>semiautomatic handguns</td>\n",
       "      <td>-</td>\n",
       "      <td>Black</td>\n",
       "      <td>M</td>\n",
       "      <td>-</td>\n",
       "      <td>-</td>\n",
       "      <td>Mass</td>\n",
       "      <td>2023</td>\n",
       "    </tr>\n",
       "    <tr>\n",
       "      <th>2</th>\n",
       "      <td>Half Moon Bay spree shooting</td>\n",
       "      <td>Half Moon Bay, California</td>\n",
       "      <td>1-23-23</td>\n",
       "      <td>Chunli Zhao, 67, suspected of carrying out the...</td>\n",
       "      <td>7</td>\n",
       "      <td>1</td>\n",
       "      <td>8</td>\n",
       "      <td>workplace</td>\n",
       "      <td>67</td>\n",
       "      <td>-</td>\n",
       "      <td>...</td>\n",
       "      <td>-</td>\n",
       "      <td>-</td>\n",
       "      <td>semiautomatic handgun</td>\n",
       "      <td>-</td>\n",
       "      <td>Asian</td>\n",
       "      <td>M</td>\n",
       "      <td>-</td>\n",
       "      <td>-</td>\n",
       "      <td>Spree</td>\n",
       "      <td>2023</td>\n",
       "    </tr>\n",
       "    <tr>\n",
       "      <th>3</th>\n",
       "      <td>LA dance studio mass shooting</td>\n",
       "      <td>Monterey Park, California</td>\n",
       "      <td>1-21-23</td>\n",
       "      <td>Huu Can Tran, 72, fled the scene in a white va...</td>\n",
       "      <td>11</td>\n",
       "      <td>10</td>\n",
       "      <td>21</td>\n",
       "      <td>Other</td>\n",
       "      <td>72</td>\n",
       "      <td>yes</td>\n",
       "      <td>...</td>\n",
       "      <td>-</td>\n",
       "      <td>-</td>\n",
       "      <td>semiautomatic assault weapon (Details pending)</td>\n",
       "      <td>-</td>\n",
       "      <td>Asian</td>\n",
       "      <td>M</td>\n",
       "      <td>-</td>\n",
       "      <td>-</td>\n",
       "      <td>Mass</td>\n",
       "      <td>2023</td>\n",
       "    </tr>\n",
       "    <tr>\n",
       "      <th>4</th>\n",
       "      <td>Virginia Walmart shooting</td>\n",
       "      <td>Chesapeake, Virginia</td>\n",
       "      <td>11-22-22</td>\n",
       "      <td>Andre Bing, 31, who worked as a supervisor at ...</td>\n",
       "      <td>6</td>\n",
       "      <td>6</td>\n",
       "      <td>12</td>\n",
       "      <td>Workplace</td>\n",
       "      <td>31</td>\n",
       "      <td>-</td>\n",
       "      <td>...</td>\n",
       "      <td>-</td>\n",
       "      <td>-</td>\n",
       "      <td>semiautomatic handgun</td>\n",
       "      <td>-</td>\n",
       "      <td>Black</td>\n",
       "      <td>M</td>\n",
       "      <td>-</td>\n",
       "      <td>-</td>\n",
       "      <td>Mass</td>\n",
       "      <td>2022</td>\n",
       "    </tr>\n",
       "  </tbody>\n",
       "</table>\n",
       "<p>5 rows × 21 columns</p>\n",
       "</div>"
      ],
      "text/plain": [
       "                                  case                   location      date  \\\n",
       "0  Nashville religious school shooting              Nashville, TN   3-27-23   \n",
       "1   Michigan State University shooting     East Lansing, Michigan   2-13-23   \n",
       "2         Half Moon Bay spree shooting  Half Moon Bay, California   1-23-23   \n",
       "3        LA dance studio mass shooting  Monterey Park, California   1-21-23   \n",
       "4            Virginia Walmart shooting       Chesapeake, Virginia  11-22-22   \n",
       "\n",
       "                                             summary  fatalities injured  \\\n",
       "0  Audrey Hale, 28, who was a former student at t...           6       1   \n",
       "1  Anthony D. McRae, 43, opened fire at Berkey Ha...           3       5   \n",
       "2  Chunli Zhao, 67, suspected of carrying out the...           7       1   \n",
       "3  Huu Can Tran, 72, fled the scene in a white va...          11      10   \n",
       "4  Andre Bing, 31, who worked as a supervisor at ...           6       6   \n",
       "\n",
       "  total_victims location.1 age_of_shooter prior_signs_mental_health_issues  \\\n",
       "0             6     School             28                                -   \n",
       "1             8     School             43                                -   \n",
       "2             8  workplace             67                                -   \n",
       "3            21      Other             72                              yes   \n",
       "4            12  Workplace             31                                -   \n",
       "\n",
       "   ... weapons_obtained_legally where_obtained  \\\n",
       "0  ...                        -              -   \n",
       "1  ...                      yes              -   \n",
       "2  ...                        -              -   \n",
       "3  ...                        -              -   \n",
       "4  ...                        -              -   \n",
       "\n",
       "                                      weapon_type weapon_details   race  \\\n",
       "0      semiautomatic rifle, semiautomatic handgun              -      -   \n",
       "1                          semiautomatic handguns              -  Black   \n",
       "2                           semiautomatic handgun              -  Asian   \n",
       "3  semiautomatic assault weapon (Details pending)              -  Asian   \n",
       "4                           semiautomatic handgun              -  Black   \n",
       "\n",
       "                                      gender latitude longitude   type  year  \n",
       "0  F (identified as transgender, per police)        -         -   Mass  2023  \n",
       "1                                          M        -         -   Mass  2023  \n",
       "2                                          M        -         -  Spree  2023  \n",
       "3                                          M        -         -   Mass  2023  \n",
       "4                                          M        -         -   Mass  2022  \n",
       "\n",
       "[5 rows x 21 columns]"
      ]
     },
     "execution_count": 3,
     "metadata": {},
     "output_type": "execute_result"
    }
   ],
   "source": [
    "df.head()\n",
    "\n",
    "# checking the first 5 rows of the data"
   ]
  },
  {
   "cell_type": "code",
   "execution_count": 4,
   "metadata": {},
   "outputs": [
    {
     "name": "stdout",
     "output_type": "stream",
     "text": [
      "<class 'pandas.core.frame.DataFrame'>\n",
      "RangeIndex: 141 entries, 0 to 140\n",
      "Data columns (total 21 columns):\n",
      " #   Column                            Non-Null Count  Dtype \n",
      "---  ------                            --------------  ----- \n",
      " 0   case                              141 non-null    object\n",
      " 1   location                          141 non-null    object\n",
      " 2   date                              141 non-null    object\n",
      " 3   summary                           141 non-null    object\n",
      " 4   fatalities                        141 non-null    int64 \n",
      " 5   injured                           141 non-null    object\n",
      " 6   total_victims                     141 non-null    object\n",
      " 7   location.1                        141 non-null    object\n",
      " 8   age_of_shooter                    141 non-null    object\n",
      " 9   prior_signs_mental_health_issues  141 non-null    object\n",
      " 10  mental_health_details             141 non-null    object\n",
      " 11  weapons_obtained_legally          141 non-null    object\n",
      " 12  where_obtained                    141 non-null    object\n",
      " 13  weapon_type                       141 non-null    object\n",
      " 14  weapon_details                    140 non-null    object\n",
      " 15  race                              141 non-null    object\n",
      " 16  gender                            141 non-null    object\n",
      " 17  latitude                          141 non-null    object\n",
      " 18  longitude                         141 non-null    object\n",
      " 19  type                              141 non-null    object\n",
      " 20  year                              141 non-null    int64 \n",
      "dtypes: int64(2), object(19)\n",
      "memory usage: 23.3+ KB\n"
     ]
    }
   ],
   "source": [
    "df.info()\n",
    "\n",
    "# checking the columns and their data types as well as whether we have null values."
   ]
  },
  {
   "cell_type": "markdown",
   "metadata": {},
   "source": [
    "We have 21 columns and 141 observations.\n",
    "\n",
    "The column 'weapon_details' is missing a single observation. We'll figure out how to deal with that later.\n",
    "\n",
    "A few columns are not in the data type we need for the purposes of this project so we have to take care of that."
   ]
  },
  {
   "cell_type": "code",
   "execution_count": 5,
   "metadata": {},
   "outputs": [
    {
     "data": {
      "text/plain": [
       "case                                object\n",
       "location                            object\n",
       "date                                object\n",
       "summary                             object\n",
       "fatalities                           int64\n",
       "injured                             object\n",
       "total_victims                       object\n",
       "location.1                          object\n",
       "age_of_shooter                      object\n",
       "prior_signs_mental_health_issues    object\n",
       "mental_health_details               object\n",
       "weapons_obtained_legally            object\n",
       "where_obtained                      object\n",
       "weapon_type                         object\n",
       "weapon_details                      object\n",
       "race                                object\n",
       "gender                              object\n",
       "latitude                            object\n",
       "longitude                           object\n",
       "type                                object\n",
       "year                                 int64\n",
       "dtype: object"
      ]
     },
     "execution_count": 5,
     "metadata": {},
     "output_type": "execute_result"
    }
   ],
   "source": [
    "df.dtypes"
   ]
  },
  {
   "cell_type": "code",
   "execution_count": 6,
   "metadata": {},
   "outputs": [
    {
     "data": {
      "text/plain": [
       "Index(['case', 'location', 'date', 'summary', 'fatalities', 'injured',\n",
       "       'total_victims', 'location.1', 'age_of_shooter',\n",
       "       'prior_signs_mental_health_issues', 'mental_health_details',\n",
       "       'weapons_obtained_legally', 'where_obtained', 'weapon_type',\n",
       "       'weapon_details', 'race', 'gender', 'latitude', 'longitude', 'type',\n",
       "       'year'],\n",
       "      dtype='object')"
      ]
     },
     "execution_count": 6,
     "metadata": {},
     "output_type": "execute_result"
    }
   ],
   "source": [
    "df.columns"
   ]
  },
  {
   "cell_type": "code",
   "execution_count": null,
   "metadata": {},
   "outputs": [],
   "source": []
  },
  {
   "cell_type": "markdown",
   "metadata": {},
   "source": [
    "## Cleaning the data"
   ]
  },
  {
   "cell_type": "code",
   "execution_count": null,
   "metadata": {},
   "outputs": [],
   "source": []
  },
  {
   "cell_type": "code",
   "execution_count": 7,
   "metadata": {},
   "outputs": [
    {
     "data": {
      "text/plain": [
       "0    Nashville religious school shooting\n",
       "1     Michigan State University shooting\n",
       "2           Half Moon Bay spree shooting\n",
       "3          LA dance studio mass shooting\n",
       "4              Virginia Walmart shooting\n",
       "Name: case, dtype: object"
      ]
     },
     "execution_count": 7,
     "metadata": {},
     "output_type": "execute_result"
    }
   ],
   "source": [
    "df['case'].head()"
   ]
  },
  {
   "cell_type": "markdown",
   "metadata": {},
   "source": [
    "A bunch of strings and zero nulls so we leave this column as is."
   ]
  },
  {
   "cell_type": "code",
   "execution_count": null,
   "metadata": {},
   "outputs": [],
   "source": []
  },
  {
   "cell_type": "code",
   "execution_count": 8,
   "metadata": {},
   "outputs": [
    {
     "data": {
      "text/plain": [
       "0                Nashville, TN\n",
       "1       East Lansing, Michigan\n",
       "2    Half Moon Bay, California\n",
       "3    Monterey Park, California\n",
       "4         Chesapeake, Virginia\n",
       "Name: location, dtype: object"
      ]
     },
     "execution_count": 8,
     "metadata": {},
     "output_type": "execute_result"
    }
   ],
   "source": [
    "df['location'].head()"
   ]
  },
  {
   "cell_type": "markdown",
   "metadata": {},
   "source": [
    "Contains both the city and state"
   ]
  },
  {
   "cell_type": "code",
   "execution_count": 9,
   "metadata": {},
   "outputs": [],
   "source": [
    "# let's split the 'location' column into 2 columns - 'city' and 'state'\n",
    "\n",
    "df['city']=df['location'].apply(lambda x: x.split(',')[0])\n",
    "df['state']=df['location'].apply(lambda x: x.split(',')[1])"
   ]
  },
  {
   "cell_type": "code",
   "execution_count": 10,
   "metadata": {},
   "outputs": [
    {
     "data": {
      "text/html": [
       "<div>\n",
       "<style scoped>\n",
       "    .dataframe tbody tr th:only-of-type {\n",
       "        vertical-align: middle;\n",
       "    }\n",
       "\n",
       "    .dataframe tbody tr th {\n",
       "        vertical-align: top;\n",
       "    }\n",
       "\n",
       "    .dataframe thead th {\n",
       "        text-align: right;\n",
       "    }\n",
       "</style>\n",
       "<table border=\"1\" class=\"dataframe\">\n",
       "  <thead>\n",
       "    <tr style=\"text-align: right;\">\n",
       "      <th></th>\n",
       "      <th>city</th>\n",
       "      <th>state</th>\n",
       "    </tr>\n",
       "  </thead>\n",
       "  <tbody>\n",
       "    <tr>\n",
       "      <th>0</th>\n",
       "      <td>Nashville</td>\n",
       "      <td>TN</td>\n",
       "    </tr>\n",
       "    <tr>\n",
       "      <th>1</th>\n",
       "      <td>East Lansing</td>\n",
       "      <td>Michigan</td>\n",
       "    </tr>\n",
       "    <tr>\n",
       "      <th>2</th>\n",
       "      <td>Half Moon Bay</td>\n",
       "      <td>California</td>\n",
       "    </tr>\n",
       "    <tr>\n",
       "      <th>3</th>\n",
       "      <td>Monterey Park</td>\n",
       "      <td>California</td>\n",
       "    </tr>\n",
       "    <tr>\n",
       "      <th>4</th>\n",
       "      <td>Chesapeake</td>\n",
       "      <td>Virginia</td>\n",
       "    </tr>\n",
       "  </tbody>\n",
       "</table>\n",
       "</div>"
      ],
      "text/plain": [
       "            city        state\n",
       "0      Nashville           TN\n",
       "1   East Lansing     Michigan\n",
       "2  Half Moon Bay   California\n",
       "3  Monterey Park   California\n",
       "4     Chesapeake     Virginia"
      ]
     },
     "execution_count": 10,
     "metadata": {},
     "output_type": "execute_result"
    }
   ],
   "source": [
    "df[['city','state']].head()\n",
    "\n",
    "# confirming that what we did above worked"
   ]
  },
  {
   "cell_type": "code",
   "execution_count": 11,
   "metadata": {},
   "outputs": [
    {
     "data": {
      "text/plain": [
       "array([' TN', ' Michigan', ' California', ' Virginia', ' Colorado',\n",
       "       ' North Carolina', ' Indiana', ' Illinois', ' Alabama',\n",
       "       ' Maryland', ' Oklahoma', ' Texas', ' New York', ' Georgia',\n",
       "       ' Missouri', ' Wisconsin', ' New Jersey', ' Florida', ' Ohio',\n",
       "       ' Pennsylvania', ' Tennessee', ' Nevada', ' Washington',\n",
       "       ' Lousiana', ' Kansas', ' Oregon', ' South Carolina', ' D.C.',\n",
       "       ' Connecticut', ' Minnesota', ' Arizona', ' Kentucky', ' Nebraska',\n",
       "       ' Utah', ' Mississippi', ' Massachusetts', ' Hawaii', ' Arkansas',\n",
       "       ' Iowa'], dtype=object)"
      ]
     },
     "execution_count": 11,
     "metadata": {},
     "output_type": "execute_result"
    }
   ],
   "source": [
    "# a closer look at the new 'state' column\n",
    "\n",
    "df['state'].unique()"
   ]
  },
  {
   "cell_type": "code",
   "execution_count": 12,
   "metadata": {},
   "outputs": [],
   "source": [
    "# TN and D.C. are abbreviations while the rest are entered in full\n",
    "# for the sake of consistency we will write them in full below\n",
    "\n",
    "df['state']=df['state'].apply(lambda x: x.replace('TN','Tennessee').replace('D.C','District of Columbia'))"
   ]
  },
  {
   "cell_type": "code",
   "execution_count": null,
   "metadata": {},
   "outputs": [],
   "source": []
  },
  {
   "cell_type": "code",
   "execution_count": 13,
   "metadata": {},
   "outputs": [
    {
     "data": {
      "text/plain": [
       "0     3-27-23\n",
       "1     2-13-23\n",
       "2     1-23-23\n",
       "3     1-21-23\n",
       "4    11-22-22\n",
       "Name: date, dtype: object"
      ]
     },
     "execution_count": 13,
     "metadata": {},
     "output_type": "execute_result"
    }
   ],
   "source": [
    "df['date'].head()"
   ]
  },
  {
   "cell_type": "code",
   "execution_count": 14,
   "metadata": {},
   "outputs": [],
   "source": [
    "# as seen above, 'date' column is a string so we convert it to datetime\n",
    "\n",
    "df['date']=pd.to_datetime(df['date'])"
   ]
  },
  {
   "cell_type": "code",
   "execution_count": 15,
   "metadata": {},
   "outputs": [],
   "source": [
    "# now that 'date' is in the appropriate type, we split it into two - 'month' and 'day' - columns\n",
    "\n",
    "df['month']=df['date'].dt.month\n",
    "df['day']=df['date'].dt.day"
   ]
  },
  {
   "cell_type": "code",
   "execution_count": 16,
   "metadata": {},
   "outputs": [
    {
     "data": {
      "text/html": [
       "<div>\n",
       "<style scoped>\n",
       "    .dataframe tbody tr th:only-of-type {\n",
       "        vertical-align: middle;\n",
       "    }\n",
       "\n",
       "    .dataframe tbody tr th {\n",
       "        vertical-align: top;\n",
       "    }\n",
       "\n",
       "    .dataframe thead th {\n",
       "        text-align: right;\n",
       "    }\n",
       "</style>\n",
       "<table border=\"1\" class=\"dataframe\">\n",
       "  <thead>\n",
       "    <tr style=\"text-align: right;\">\n",
       "      <th></th>\n",
       "      <th>month</th>\n",
       "      <th>day</th>\n",
       "    </tr>\n",
       "  </thead>\n",
       "  <tbody>\n",
       "    <tr>\n",
       "      <th>136</th>\n",
       "      <td>4</td>\n",
       "      <td>23</td>\n",
       "    </tr>\n",
       "    <tr>\n",
       "      <th>137</th>\n",
       "      <td>8</td>\n",
       "      <td>20</td>\n",
       "    </tr>\n",
       "    <tr>\n",
       "      <th>138</th>\n",
       "      <td>7</td>\n",
       "      <td>18</td>\n",
       "    </tr>\n",
       "    <tr>\n",
       "      <th>139</th>\n",
       "      <td>6</td>\n",
       "      <td>29</td>\n",
       "    </tr>\n",
       "    <tr>\n",
       "      <th>140</th>\n",
       "      <td>8</td>\n",
       "      <td>20</td>\n",
       "    </tr>\n",
       "  </tbody>\n",
       "</table>\n",
       "</div>"
      ],
      "text/plain": [
       "     month  day\n",
       "136      4   23\n",
       "137      8   20\n",
       "138      7   18\n",
       "139      6   29\n",
       "140      8   20"
      ]
     },
     "execution_count": 16,
     "metadata": {},
     "output_type": "execute_result"
    }
   ],
   "source": [
    "df[['month','day']].tail()\n",
    "\n",
    "# confirming that what we did above worked"
   ]
  },
  {
   "cell_type": "code",
   "execution_count": 17,
   "metadata": {},
   "outputs": [],
   "source": [
    "# the months are numeric so we map them to their corresponding names\n",
    "\n",
    "df['month']=df['month'].map({1:'January',2:'February',3:'March',4:'April',5:'May',6:'June',7:'July',8:'August',9:'September',10:'October',11:'November',12:'December',})"
   ]
  },
  {
   "cell_type": "code",
   "execution_count": null,
   "metadata": {},
   "outputs": [],
   "source": []
  },
  {
   "cell_type": "code",
   "execution_count": 18,
   "metadata": {},
   "outputs": [
    {
     "data": {
      "text/plain": [
       "0    Audrey Hale, 28, who was a former student at t...\n",
       "1    Anthony D. McRae, 43, opened fire at Berkey Ha...\n",
       "2    Chunli Zhao, 67, suspected of carrying out the...\n",
       "3    Huu Can Tran, 72, fled the scene in a white va...\n",
       "4    Andre Bing, 31, who worked as a supervisor at ...\n",
       "Name: summary, dtype: object"
      ]
     },
     "execution_count": 18,
     "metadata": {},
     "output_type": "execute_result"
    }
   ],
   "source": [
    "df['summary'].head()"
   ]
  },
  {
   "cell_type": "markdown",
   "metadata": {},
   "source": [
    "A bunch of strings and zero nulls so we leave this column as is."
   ]
  },
  {
   "cell_type": "code",
   "execution_count": null,
   "metadata": {},
   "outputs": [],
   "source": []
  },
  {
   "cell_type": "code",
   "execution_count": 19,
   "metadata": {},
   "outputs": [
    {
     "data": {
      "text/plain": [
       "array([ 6,  3,  7, 11,  5,  4, 21, 10,  9,  8, 22, 12, 17, 26, 58, 49, 14,\n",
       "       27, 13, 32, 24, 15], dtype=int64)"
      ]
     },
     "execution_count": 19,
     "metadata": {},
     "output_type": "execute_result"
    }
   ],
   "source": [
    "df['fatalities'].unique()"
   ]
  },
  {
   "cell_type": "code",
   "execution_count": null,
   "metadata": {},
   "outputs": [],
   "source": []
  },
  {
   "cell_type": "code",
   "execution_count": 20,
   "metadata": {},
   "outputs": [
    {
     "data": {
      "text/plain": [
       "array(['1', '5', '10', '6', '25', '2', '46', '0', '(TK - \"fewer than 10\"',\n",
       "       '17', '3', '7', '8', '27', '26', '12', '4', '22', '13', '20',\n",
       "       '546', '11', '53', '14', '21', '9', '70', '31', '23', '24', '19',\n",
       "       '29'], dtype=object)"
      ]
     },
     "execution_count": 20,
     "metadata": {},
     "output_type": "execute_result"
    }
   ],
   "source": [
    "df['injured'].unique()"
   ]
  },
  {
   "cell_type": "markdown",
   "metadata": {},
   "source": [
    "This one needs cleaning. One of the values is strange and the data type is incorrect."
   ]
  },
  {
   "cell_type": "code",
   "execution_count": null,
   "metadata": {},
   "outputs": [],
   "source": []
  },
  {
   "cell_type": "code",
   "execution_count": 21,
   "metadata": {},
   "outputs": [
    {
     "data": {
      "text/plain": [
       "12    Michael Louis, 45, killed four, including two ...\n",
       "Name: summary, dtype: object"
      ]
     },
     "execution_count": 21,
     "metadata": {},
     "output_type": "execute_result"
    }
   ],
   "source": [
    "df[df['injured']=='(TK - \"fewer than 10\"']['summary']"
   ]
  },
  {
   "cell_type": "markdown",
   "metadata": {},
   "source": [
    "A Google search of the incident and the incident summary above don't shed light on the number of injured people.\n",
    "\n",
    "I've decided to drop the entire row."
   ]
  },
  {
   "cell_type": "code",
   "execution_count": 22,
   "metadata": {},
   "outputs": [],
   "source": [
    "df=df.drop(12,axis=0)"
   ]
  },
  {
   "cell_type": "code",
   "execution_count": 23,
   "metadata": {},
   "outputs": [
    {
     "data": {
      "text/plain": [
       "array(['1', '5', '10', '6', '25', '2', '46', '0', '17', '3', '7', '8',\n",
       "       '27', '26', '12', '4', '22', '13', '20', '546', '11', '53', '14',\n",
       "       '21', '9', '70', '31', '23', '24', '19', '29'], dtype=object)"
      ]
     },
     "execution_count": 23,
     "metadata": {},
     "output_type": "execute_result"
    }
   ],
   "source": [
    "df['injured'].unique()"
   ]
  },
  {
   "cell_type": "code",
   "execution_count": 24,
   "metadata": {},
   "outputs": [
    {
     "data": {
      "text/plain": [
       "array(['6', '8', '21', '12', '30', '5', '7', '53', '3', '4', '38', '13',\n",
       "       '11', '9', '15', '10', '32', '36', '48', '16', '34', '17', '23',\n",
       "       '46', '604', '102', '35', '18', '19', '20', '29', '82', '44', '26',\n",
       "       '55', '22', '37', '28', '25', '14', '41'], dtype=object)"
      ]
     },
     "execution_count": 24,
     "metadata": {},
     "output_type": "execute_result"
    }
   ],
   "source": [
    "df['total_victims'].unique()"
   ]
  },
  {
   "cell_type": "code",
   "execution_count": 25,
   "metadata": {},
   "outputs": [],
   "source": [
    "# changing 'injured' and 'total_victims' from strings to integers\n",
    "\n",
    "df['injured']=df['injured'].astype('int64')\n",
    "df['total_victims']=df['total_victims'].astype('int64')"
   ]
  },
  {
   "cell_type": "code",
   "execution_count": 26,
   "metadata": {},
   "outputs": [
    {
     "data": {
      "text/plain": [
       "injured          int64\n",
       "total_victims    int64\n",
       "dtype: object"
      ]
     },
     "execution_count": 26,
     "metadata": {},
     "output_type": "execute_result"
    }
   ],
   "source": [
    "df[['injured','total_victims']].dtypes"
   ]
  },
  {
   "cell_type": "markdown",
   "metadata": {},
   "source": [
    "Perfect!"
   ]
  },
  {
   "cell_type": "code",
   "execution_count": null,
   "metadata": {},
   "outputs": [],
   "source": []
  },
  {
   "cell_type": "code",
   "execution_count": 27,
   "metadata": {},
   "outputs": [
    {
     "data": {
      "text/plain": [
       "array(['School', 'workplace', 'Other', 'Workplace', 'religious',\n",
       "       'Religious', 'Military', 'Airport', '\\nWorkplace', 'Other\\n'],\n",
       "      dtype=object)"
      ]
     },
     "execution_count": 27,
     "metadata": {},
     "output_type": "execute_result"
    }
   ],
   "source": [
    "df['location.1'].unique()"
   ]
  },
  {
   "cell_type": "markdown",
   "metadata": {},
   "source": [
    "This needs a bit of work."
   ]
  },
  {
   "cell_type": "code",
   "execution_count": 28,
   "metadata": {},
   "outputs": [],
   "source": [
    "# cleaning\n",
    "\n",
    "df['location.1']=df['location.1'].apply(lambda x: x.title().replace('\\n',''))"
   ]
  },
  {
   "cell_type": "code",
   "execution_count": 29,
   "metadata": {},
   "outputs": [
    {
     "data": {
      "text/plain": [
       "array(['School', 'Workplace', 'Other', 'Religious', 'Military', 'Airport'],\n",
       "      dtype=object)"
      ]
     },
     "execution_count": 29,
     "metadata": {},
     "output_type": "execute_result"
    }
   ],
   "source": [
    "df['location.1'].unique()"
   ]
  },
  {
   "cell_type": "markdown",
   "metadata": {},
   "source": [
    "Done."
   ]
  },
  {
   "cell_type": "code",
   "execution_count": null,
   "metadata": {},
   "outputs": [],
   "source": []
  },
  {
   "cell_type": "code",
   "execution_count": 30,
   "metadata": {},
   "outputs": [
    {
     "data": {
      "text/plain": [
       "array(['28', '43', '67', '72', '31', '22', '15', '20', '21', '70', '23',\n",
       "       '18', '-', '57', '19', '44', '51', '36', '24', '40', '45', '32',\n",
       "       '46', '26', '54', '29', '38', '17', '47', '37', '64', '39', '25',\n",
       "       '33', '27', '34', '42', '59', '41', '52', '16', '48', '66', '11',\n",
       "       '35', '55', '50'], dtype=object)"
      ]
     },
     "execution_count": 30,
     "metadata": {},
     "output_type": "execute_result"
    }
   ],
   "source": [
    "df['age_of_shooter'].unique()"
   ]
  },
  {
   "cell_type": "code",
   "execution_count": 31,
   "metadata": {},
   "outputs": [
    {
     "data": {
      "text/plain": [
       "15    \"A man believed to be meeting his three childr...\n",
       "24    David N. Anderson, 47, and Francine Graham, 50...\n",
       "Name: summary, dtype: object"
      ]
     },
     "execution_count": 31,
     "metadata": {},
     "output_type": "execute_result"
    }
   ],
   "source": [
    "# trying to glean the age of the shooter from the incident summary\n",
    "\n",
    "df[df['age_of_shooter']=='-']['summary']"
   ]
  },
  {
   "cell_type": "code",
   "execution_count": 32,
   "metadata": {},
   "outputs": [],
   "source": [
    "# 15 - a Google search revealed this shooter was 39\n",
    "\n",
    "df.at[15,'age_of_shooter']='39' \n",
    "\n",
    "# 24 - from the summary, we have two shooters and their ages but I've decide to go with the one who appears first\n",
    "\n",
    "df.at[24,'age_of_shooter']='47' "
   ]
  },
  {
   "cell_type": "code",
   "execution_count": 33,
   "metadata": {},
   "outputs": [],
   "source": [
    "# changing the type to int\n",
    "\n",
    "df['age_of_shooter']=df['age_of_shooter'].astype('int64')"
   ]
  },
  {
   "cell_type": "code",
   "execution_count": 34,
   "metadata": {},
   "outputs": [
    {
     "data": {
      "text/plain": [
       "array([28, 43, 67, 72, 31, 22, 15, 20, 21, 70, 23, 18, 39, 57, 19, 44, 51,\n",
       "       47, 36, 24, 40, 45, 32, 46, 26, 54, 29, 38, 17, 37, 64, 25, 33, 27,\n",
       "       34, 42, 59, 41, 52, 16, 48, 66, 11, 35, 55, 50], dtype=int64)"
      ]
     },
     "execution_count": 34,
     "metadata": {},
     "output_type": "execute_result"
    }
   ],
   "source": [
    "df['age_of_shooter'].unique()"
   ]
  },
  {
   "cell_type": "code",
   "execution_count": 35,
   "metadata": {},
   "outputs": [],
   "source": [
    "# we can create age groups from the age column\n",
    "\n",
    "def age_group(age):\n",
    "    if age<13:\n",
    "        return 'Child'\n",
    "    elif age<20:\n",
    "        return 'Teenager'\n",
    "    elif age<35:\n",
    "        return 'Young Adult'\n",
    "    elif age<60:\n",
    "        return 'Middle Aged'\n",
    "    else:\n",
    "        return 'Senior'"
   ]
  },
  {
   "cell_type": "code",
   "execution_count": 36,
   "metadata": {},
   "outputs": [
    {
     "data": {
      "text/plain": [
       "array(['Young Adult', 'Middle Aged', 'Senior', 'Teenager', 'Child'],\n",
       "      dtype=object)"
      ]
     },
     "execution_count": 36,
     "metadata": {},
     "output_type": "execute_result"
    }
   ],
   "source": [
    "df['age_group']=df['age_of_shooter'].apply(age_group)\n",
    "\n",
    "df['age_group'].unique()"
   ]
  },
  {
   "cell_type": "markdown",
   "metadata": {},
   "source": [
    "Nicely done."
   ]
  },
  {
   "cell_type": "code",
   "execution_count": null,
   "metadata": {},
   "outputs": [],
   "source": []
  },
  {
   "cell_type": "code",
   "execution_count": 37,
   "metadata": {},
   "outputs": [
    {
     "data": {
      "text/plain": [
       "array(['-', 'yes', 'TBD', 'Yes', 'Unclear', 'Unknown', 'No', 'Unclear '],\n",
       "      dtype=object)"
      ]
     },
     "execution_count": 37,
     "metadata": {},
     "output_type": "execute_result"
    }
   ],
   "source": [
    "df['prior_signs_mental_health_issues'].unique()"
   ]
  },
  {
   "cell_type": "code",
   "execution_count": 38,
   "metadata": {},
   "outputs": [
    {
     "data": {
      "text/plain": [
       "array(['Unknown', 'Yes', 'No'], dtype=object)"
      ]
     },
     "execution_count": 38,
     "metadata": {},
     "output_type": "execute_result"
    }
   ],
   "source": [
    "# fixing the inconsistencies\n",
    "\n",
    "df['prior_signs_mental_health_issues']=df['prior_signs_mental_health_issues'].apply(\n",
    "    lambda x: x.replace('-','Unknown').\n",
    "    replace('yes','Yes').replace(' ','').\n",
    "    replace('Unclear','Unknown').\n",
    "    replace('TBD','Unknown'))\n",
    "\n",
    "df['prior_signs_mental_health_issues'].unique()"
   ]
  },
  {
   "cell_type": "code",
   "execution_count": null,
   "metadata": {},
   "outputs": [],
   "source": []
  },
  {
   "cell_type": "code",
   "execution_count": 39,
   "metadata": {},
   "outputs": [
    {
     "data": {
      "text/plain": [
       "0                                                    -\n",
       "1                                                    -\n",
       "2                                                    -\n",
       "3    According to the LA Times, \"Two law enforcemen...\n",
       "4                                                    -\n",
       "Name: mental_health_details, dtype: object"
      ]
     },
     "execution_count": 39,
     "metadata": {},
     "output_type": "execute_result"
    }
   ],
   "source": [
    "df['mental_health_details'].head()"
   ]
  },
  {
   "cell_type": "markdown",
   "metadata": {},
   "source": [
    "Let's ignore the '-' since this columns just contains a bunch of descriptions."
   ]
  },
  {
   "cell_type": "code",
   "execution_count": null,
   "metadata": {},
   "outputs": [],
   "source": []
  },
  {
   "cell_type": "code",
   "execution_count": 40,
   "metadata": {},
   "outputs": [
    {
     "data": {
      "text/plain": [
       "array(['-', 'yes', 'Yes', 'No', 'TBD',\n",
       "       'Kelley passed federal criminal background checks; the US Air Force failed to provide information on his criminal history to the FBI',\n",
       "       'Unknown', '\\nYes',\n",
       "       'Yes (\"some of the weapons were purchased legally and some of them may not have been\")',\n",
       "       'Yes '], dtype=object)"
      ]
     },
     "execution_count": 40,
     "metadata": {},
     "output_type": "execute_result"
    }
   ],
   "source": [
    "df['weapons_obtained_legally'].unique()"
   ]
  },
  {
   "cell_type": "markdown",
   "metadata": {},
   "source": [
    "Some janitorial work is needed here."
   ]
  },
  {
   "cell_type": "code",
   "execution_count": null,
   "metadata": {},
   "outputs": [],
   "source": []
  },
  {
   "cell_type": "code",
   "execution_count": 41,
   "metadata": {},
   "outputs": [
    {
     "data": {
      "text/plain": [
       "array(['Unknown', 'Yes', 'No', 'TBD'], dtype=object)"
      ]
     },
     "execution_count": 41,
     "metadata": {},
     "output_type": "execute_result"
    }
   ],
   "source": [
    "df['weapons_obtained_legally']=df['weapons_obtained_legally'].apply(\n",
    "    lambda x: x.replace('-','Unknown').replace('yes','Yes').replace('\\n','').replace('Yes ','Yes').replace('TBD','Unknown').\n",
    "    replace('Kelley passed federal criminal background checks; the US Air Force failed to provide information on his criminal history to the FBI','TBD').replace('Yes(\"some of the weapons were purchased legally and some of them may not have been\")','Yes'))\n",
    "\n",
    "df['weapons_obtained_legally'].unique()"
   ]
  },
  {
   "cell_type": "code",
   "execution_count": 42,
   "metadata": {},
   "outputs": [
    {
     "data": {
      "text/plain": [
       "array(['Unknown', 'Yes', 'No'], dtype=object)"
      ]
     },
     "execution_count": 42,
     "metadata": {},
     "output_type": "execute_result"
    }
   ],
   "source": [
    "df['weapons_obtained_legally']=df['weapons_obtained_legally'].apply(lambda x: x.replace('TBD','Unknown'))\n",
    "    \n",
    "df['weapons_obtained_legally'].unique()"
   ]
  },
  {
   "cell_type": "markdown",
   "metadata": {},
   "source": [
    "Done!"
   ]
  },
  {
   "cell_type": "code",
   "execution_count": null,
   "metadata": {},
   "outputs": [],
   "source": []
  },
  {
   "cell_type": "code",
   "execution_count": 43,
   "metadata": {},
   "outputs": [
    {
     "data": {
      "text/plain": [
       "0    -\n",
       "1    -\n",
       "2    -\n",
       "3    -\n",
       "4    -\n",
       "Name: where_obtained, dtype: object"
      ]
     },
     "execution_count": 43,
     "metadata": {},
     "output_type": "execute_result"
    }
   ],
   "source": [
    "df['where_obtained'].head()"
   ]
  },
  {
   "cell_type": "markdown",
   "metadata": {},
   "source": [
    "Let's ignore the hyphens since this columns just contains a bunch of descriptions.\n",
    "\n",
    "Moving along swiftly..."
   ]
  },
  {
   "cell_type": "code",
   "execution_count": null,
   "metadata": {},
   "outputs": [],
   "source": []
  },
  {
   "cell_type": "code",
   "execution_count": 44,
   "metadata": {},
   "outputs": [
    {
     "data": {
      "text/plain": [
       "0        semiautomatic rifle, semiautomatic handgun\n",
       "1                            semiautomatic handguns\n",
       "2                             semiautomatic handgun\n",
       "3    semiautomatic assault weapon (Details pending)\n",
       "4                             semiautomatic handgun\n",
       "Name: weapon_type, dtype: object"
      ]
     },
     "execution_count": 44,
     "metadata": {},
     "output_type": "execute_result"
    }
   ],
   "source": [
    "df['weapon_type'].head()"
   ]
  },
  {
   "cell_type": "code",
   "execution_count": null,
   "metadata": {},
   "outputs": [],
   "source": []
  },
  {
   "cell_type": "code",
   "execution_count": 45,
   "metadata": {},
   "outputs": [
    {
     "data": {
      "text/plain": [
       "129      .22-caliber Ruger sawed-off semiautomatic rifle\n",
       "93     Winchester 1300 pump-action shotgun; .357 Magn...\n",
       "79     10mm Glock, 9mm SIG Sauer P226 semiautomatic h...\n",
       "60     Sig Sauer MCX rifle, Glock 17 9mm; high-capaci...\n",
       "104    .40-caliber Glock 23, .22-caliber Ruger semiau...\n",
       "8                                   Sig Sauer M400 rifle\n",
       "48                                                     -\n",
       "85                     .45-caliber semiautomatic handgun\n",
       "55                                         .357 revolver\n",
       "40                          12-gauge pump-action shotgun\n",
       "133    Two Intratec MAC-11, 9mm SIG Sauer semiautomat...\n",
       "54                                                     -\n",
       "99     9mm Glock 19, .22-caliber Walther P22 semiauto...\n",
       "62                      9 mm handgun (ammo used unclear)\n",
       "Name: weapon_details, dtype: object"
      ]
     },
     "execution_count": 45,
     "metadata": {},
     "output_type": "execute_result"
    }
   ],
   "source": [
    "df['weapon_details'].sample(frac=0.1)"
   ]
  },
  {
   "cell_type": "code",
   "execution_count": 46,
   "metadata": {},
   "outputs": [
    {
     "data": {
      "text/html": [
       "<div>\n",
       "<style scoped>\n",
       "    .dataframe tbody tr th:only-of-type {\n",
       "        vertical-align: middle;\n",
       "    }\n",
       "\n",
       "    .dataframe tbody tr th {\n",
       "        vertical-align: top;\n",
       "    }\n",
       "\n",
       "    .dataframe thead th {\n",
       "        text-align: right;\n",
       "    }\n",
       "</style>\n",
       "<table border=\"1\" class=\"dataframe\">\n",
       "  <thead>\n",
       "    <tr style=\"text-align: right;\">\n",
       "      <th></th>\n",
       "      <th>case</th>\n",
       "      <th>location</th>\n",
       "      <th>date</th>\n",
       "      <th>summary</th>\n",
       "      <th>fatalities</th>\n",
       "      <th>injured</th>\n",
       "      <th>total_victims</th>\n",
       "      <th>location.1</th>\n",
       "      <th>age_of_shooter</th>\n",
       "      <th>prior_signs_mental_health_issues</th>\n",
       "      <th>...</th>\n",
       "      <th>gender</th>\n",
       "      <th>latitude</th>\n",
       "      <th>longitude</th>\n",
       "      <th>type</th>\n",
       "      <th>year</th>\n",
       "      <th>city</th>\n",
       "      <th>state</th>\n",
       "      <th>month</th>\n",
       "      <th>day</th>\n",
       "      <th>age_group</th>\n",
       "    </tr>\n",
       "  </thead>\n",
       "  <tbody>\n",
       "    <tr>\n",
       "      <th>7</th>\n",
       "      <td>Raleigh spree shooting</td>\n",
       "      <td>Hedingham, North Carolina</td>\n",
       "      <td>2022-10-13</td>\n",
       "      <td>Austin Thompson, 15, went on a rampage in the ...</td>\n",
       "      <td>5</td>\n",
       "      <td>2</td>\n",
       "      <td>7</td>\n",
       "      <td>Other</td>\n",
       "      <td>15</td>\n",
       "      <td>Unknown</td>\n",
       "      <td>...</td>\n",
       "      <td>M</td>\n",
       "      <td>-</td>\n",
       "      <td>-</td>\n",
       "      <td>Spree</td>\n",
       "      <td>2022</td>\n",
       "      <td>Hedingham</td>\n",
       "      <td>North Carolina</td>\n",
       "      <td>October</td>\n",
       "      <td>13</td>\n",
       "      <td>Teenager</td>\n",
       "    </tr>\n",
       "  </tbody>\n",
       "</table>\n",
       "<p>1 rows × 26 columns</p>\n",
       "</div>"
      ],
      "text/plain": [
       "                     case                   location       date  \\\n",
       "7  Raleigh spree shooting  Hedingham, North Carolina 2022-10-13   \n",
       "\n",
       "                                             summary  fatalities  injured  \\\n",
       "7  Austin Thompson, 15, went on a rampage in the ...           5        2   \n",
       "\n",
       "   total_victims location.1  age_of_shooter prior_signs_mental_health_issues  \\\n",
       "7              7      Other              15                          Unknown   \n",
       "\n",
       "   ... gender latitude longitude   type  year       city            state  \\\n",
       "7  ...      M        -         -  Spree  2022  Hedingham   North Carolina   \n",
       "\n",
       "     month day age_group  \n",
       "7  October  13  Teenager  \n",
       "\n",
       "[1 rows x 26 columns]"
      ]
     },
     "execution_count": 46,
     "metadata": {},
     "output_type": "execute_result"
    }
   ],
   "source": [
    "# remember we had an empty observation in this column\n",
    "\n",
    "df[df['weapon_details'].isnull()]"
   ]
  },
  {
   "cell_type": "markdown",
   "metadata": {},
   "source": [
    "A Google search of this incident doesn't help so let's leave it as is."
   ]
  },
  {
   "cell_type": "code",
   "execution_count": null,
   "metadata": {},
   "outputs": [],
   "source": []
  },
  {
   "cell_type": "code",
   "execution_count": 47,
   "metadata": {},
   "outputs": [
    {
     "data": {
      "text/plain": [
       "array(['-', 'Black', 'Asian', 'White', 'Latino', 'Other', 'White ',\n",
       "       'Native American', 'white', 'black', 'unclear'], dtype=object)"
      ]
     },
     "execution_count": 47,
     "metadata": {},
     "output_type": "execute_result"
    }
   ],
   "source": [
    "df['race'].unique()"
   ]
  },
  {
   "cell_type": "code",
   "execution_count": 48,
   "metadata": {},
   "outputs": [
    {
     "data": {
      "text/plain": [
       "0     Audrey Hale, 28, who was a former student at t...\n",
       "11    Joe Louis Esquivel, 23, shot four coworkers an...\n",
       "15    \"A man believed to be meeting his three childr...\n",
       "16    Ethan Crumbley, a 15-year-old student at Oxfor...\n",
       "17    Samuel Cassidy, 57, a Valley Transportation Au...\n",
       "19    Aminadab Gaxiola Gonzalez, 44, allegedly opene...\n",
       "20    Ahmad Al Aliwi Alissa, 21, carried out a mass ...\n",
       "22    Joaquin S. Roman, 31, went on a rampage culmin...\n",
       "25    Ahmed Mohammed al-Shamrani, 21, a Saudi Arabia...\n",
       "29    Santino William LeGan, 19, fired indiscriminat...\n",
       "35    Ian David Long, 28, dressed in black and armed...\n",
       "53    John Robert Neumann, Jr., 45, a former employe...\n",
       "57    Arcan Cetin, 20, killed a teen girl and three ...\n",
       "Name: summary, dtype: object"
      ]
     },
     "execution_count": 48,
     "metadata": {},
     "output_type": "execute_result"
    }
   ],
   "source": [
    "df[df['race']=='-']['summary']"
   ]
  },
  {
   "cell_type": "markdown",
   "metadata": {},
   "source": [
    "We could attempt to infer race from the name in the incident summary but I don't think we should."
   ]
  },
  {
   "cell_type": "code",
   "execution_count": 49,
   "metadata": {},
   "outputs": [
    {
     "data": {
      "text/plain": [
       "array(['Unclear', 'Black', 'Asian', 'White', 'Latino', 'Native American'],\n",
       "      dtype=object)"
      ]
     },
     "execution_count": 49,
     "metadata": {},
     "output_type": "execute_result"
    }
   ],
   "source": [
    "df['race']=df['race'].apply(lambda x: x.title().replace('-','Unclear').replace('White ','White').replace('Other','Unclear'))\n",
    "\n",
    "df['race'].unique()"
   ]
  },
  {
   "cell_type": "code",
   "execution_count": null,
   "metadata": {},
   "outputs": [],
   "source": []
  },
  {
   "cell_type": "code",
   "execution_count": 50,
   "metadata": {},
   "outputs": [
    {
     "data": {
      "text/plain": [
       "array(['F (identified as transgender, per police)', 'M', 'Male & Female',\n",
       "       'F', 'Male', 'Female'], dtype=object)"
      ]
     },
     "execution_count": 50,
     "metadata": {},
     "output_type": "execute_result"
    }
   ],
   "source": [
    "df['gender'].unique()"
   ]
  },
  {
   "cell_type": "code",
   "execution_count": 51,
   "metadata": {},
   "outputs": [
    {
     "data": {
      "text/plain": [
       "array(['Transgender Female', 'Male', 'Maleale & Femaleemale', 'Female',\n",
       "       'Maleale', 'Femaleemale'], dtype=object)"
      ]
     },
     "execution_count": 51,
     "metadata": {},
     "output_type": "execute_result"
    }
   ],
   "source": [
    "df['gender']=df['gender'].apply(lambda x: \n",
    "                                x.replace('M','Male')\n",
    "                                .replace('F','Female')\n",
    "                                .replace('Female (identified as transgender, per police)', 'Transgender Female'))\n",
    "\n",
    "df['gender'].unique()"
   ]
  },
  {
   "cell_type": "code",
   "execution_count": 52,
   "metadata": {},
   "outputs": [
    {
     "data": {
      "text/plain": [
       "array(['Transgender Female', 'Male', 'Male & Female', 'Female'],\n",
       "      dtype=object)"
      ]
     },
     "execution_count": 52,
     "metadata": {},
     "output_type": "execute_result"
    }
   ],
   "source": [
    "df['gender']=df['gender'].apply(lambda x: x.replace('Maleale & Femaleemale','Male & Female').replace('Maleale','Male').replace('Femaleemale','Female'))\n",
    "\n",
    "df['gender'].unique()"
   ]
  },
  {
   "cell_type": "markdown",
   "metadata": {},
   "source": [
    "We made a mess in this column but we have managed to clean our way out of it."
   ]
  },
  {
   "cell_type": "code",
   "execution_count": null,
   "metadata": {},
   "outputs": [],
   "source": []
  },
  {
   "cell_type": "code",
   "execution_count": 53,
   "metadata": {},
   "outputs": [
    {
     "data": {
      "text/plain": [
       "array(['Mass', 'Spree'], dtype=object)"
      ]
     },
     "execution_count": 53,
     "metadata": {},
     "output_type": "execute_result"
    }
   ],
   "source": [
    "df['type'].unique()"
   ]
  },
  {
   "cell_type": "markdown",
   "metadata": {},
   "source": [
    "No issues here so let's carry on."
   ]
  },
  {
   "cell_type": "code",
   "execution_count": null,
   "metadata": {},
   "outputs": [],
   "source": []
  },
  {
   "cell_type": "markdown",
   "metadata": {},
   "source": [
    "We are done cleaning our data. Since we do not want a very long notebook, we will save the cleaned data as a separate .csv file and analyze it in a separate notebook."
   ]
  },
  {
   "cell_type": "code",
   "execution_count": 54,
   "metadata": {},
   "outputs": [],
   "source": [
    "df.to_csv('showered_shootings.csv', index=False)"
   ]
  },
  {
   "cell_type": "code",
   "execution_count": null,
   "metadata": {},
   "outputs": [],
   "source": []
  },
  {
   "cell_type": "markdown",
   "metadata": {},
   "source": [
    "Now go freshen up and get ready to tackle the beast that brought us all here - data analysis!"
   ]
  },
  {
   "cell_type": "markdown",
   "metadata": {},
   "source": [
    "## Thank you."
   ]
  },
  {
   "cell_type": "code",
   "execution_count": null,
   "metadata": {},
   "outputs": [],
   "source": []
  }
 ],
 "metadata": {
  "kernelspec": {
   "display_name": "Python 3",
   "language": "python",
   "name": "python3"
  },
  "language_info": {
   "codemirror_mode": {
    "name": "ipython",
    "version": 3
   },
   "file_extension": ".py",
   "mimetype": "text/x-python",
   "name": "python",
   "nbconvert_exporter": "python",
   "pygments_lexer": "ipython3",
   "version": "3.7.2"
  }
 },
 "nbformat": 4,
 "nbformat_minor": 4
}
